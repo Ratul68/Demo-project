{
 "cells": [
  {
   "cell_type": "markdown",
   "metadata": {},
   "source": [
    "**Declard Filename**"
   ]
  },
  {
   "cell_type": "code",
   "execution_count": 1,
   "metadata": {},
   "outputs": [
    {
     "name": "stdout",
     "output_type": "stream",
     "text": [
      "ratul\n",
      "ratul\n"
     ]
    }
   ],
   "source": [
    "filename = \"ratul\"\n",
    "!echo $filename\n",
    "print(filename)"
   ]
  },
  {
   "cell_type": "markdown",
   "metadata": {},
   "source": [
    "**Head**"
   ]
  },
  {
   "cell_type": "code",
   "execution_count": 3,
   "metadata": {},
   "outputs": [
    {
     "name": "stdout",
     "output_type": "stream",
     "text": [
      "Data science is a multi-disciplinary field that uses scientific methods, processes, algorithms and systems to extract knowledge and insights from structured and unstructured data.[1][2] Data science is related to data mining and big data.\n",
      "\n",
      "Data science is a \"concept to unify statistics, data analysis, machine learning and their related methods\" in order to \"understand and analyze actual phenomena\" with data.[3] It employs techniques and theories drawn from many fields within the context of mathematics, statistics, computer science, and information science. Turing award winner Jim Gray imagined data science as a \"fourth paradigm\" of science (empirical, theoretical, computational and now data-driven) and asserted that \"everything about science is changing because of the impact of information technology\" and the data deluge.[4][5] In 2015, the American Statistical Association identified database management, statistics and machine learning, and distributed and parallel systems as the three emerging foundational professional communitiesThe term \"data science\" has appeared in various contexts over the past thirty years but did not become an established term until recently. In an early usage, it was used as a substitute for computer science by Peter Naur in 1960. Naur later introduced the term \"datalogy\".[7] In 1974, Naur published Concise Survey of Computer Methods, which freely used the term data science in its survey of the contemporary data processing methods that are used in a wide range of applications.\n",
      "\n",
      "The modern definition of \"data science\" was first sketched during the second Japanese-French statistics symposium organized at the University of Montpellier II (France) in 1992[8]. The attendees acknowledged the emergence of a new discipline with a specific focus on data from various origins, dimensions, types and structures. They shaped the contour of this new science based on established concepts and principles of statistics and data analysis with the extensive use of the increasing power of computer tools.\n",
      "\n",
      "In 1996, members of the International Federation of Classification Societies (IFCS) met in Kobe for their biennial conference. Here, for the first time, the term data science is included in the title of the conference (\"Data Science, classification, and related methods\"),[9] after the term was introduced in a roundtable discussion by Chikio Hayashi.[3]\n",
      "\n",
      "In November 1997, C.F. Jeff Wu gave the inaugural lecture entitled \"Statistics = Data Science?\"[10] for his appointment to the H. C. Carver Professorship at the University of Michigan.[11] In this lecture, he characterized statistical work as a trilogy of data collection, data modeling and analysis, and decision making. In his conclusion, he initiated the modern, non-computer science, usage of the term \"data science\" and advocated that statistics be renamed data science and statisticians data scientists.[10] Later, he presented his lecture entitled \"Statistics = Data Science?\" as the first of his 1998 P.C. Mahalanobis Memorial Lectures.[12] These lectures honor Prasanta Chandra Mahalanobis, an Indian scientist and statistician and founder of the Indian Statistical Institute.\n",
      "\n"
     ]
    }
   ],
   "source": [
    "!head -n 10 $filename"
   ]
  },
  {
   "cell_type": "markdown",
   "metadata": {},
   "source": [
    "**Tail**"
   ]
  },
  {
   "cell_type": "code",
   "execution_count": 4,
   "metadata": {},
   "outputs": [
    {
     "name": "stdout",
     "output_type": "stream",
     "text": [
      "    Bahasa Indonesia\n",
      "    Bahasa Melayu\n",
      "    Português\n",
      "    Русский\n",
      "    தமிழ்\n",
      "    中文\n",
      "\n",
      "\n",
      "\n",
      "\n"
     ]
    }
   ],
   "source": [
    "!tail -n 10 $filename"
   ]
  },
  {
   "cell_type": "markdown",
   "metadata": {},
   "source": [
    "**WC (Word Count)**"
   ]
  },
  {
   "cell_type": "code",
   "execution_count": 5,
   "metadata": {},
   "outputs": [
    {
     "name": "stdout",
     "output_type": "stream",
     "text": [
      "  138  2501 17536 ratul\n"
     ]
    }
   ],
   "source": [
    "!wc $filename"
   ]
  },
  {
   "cell_type": "code",
   "execution_count": 6,
   "metadata": {},
   "outputs": [
    {
     "name": "stdout",
     "output_type": "stream",
     "text": [
      "138 ratul\n"
     ]
    }
   ],
   "source": [
    "!wc -l $filename"
   ]
  },
  {
   "cell_type": "markdown",
   "metadata": {},
   "source": [
    "**CAT**"
   ]
  },
  {
   "cell_type": "code",
   "execution_count": 7,
   "metadata": {},
   "outputs": [
    {
     "name": "stdout",
     "output_type": "stream",
     "text": [
      "wc: invalid option -- '1'\n",
      "Try 'wc --help' for more information.\n",
      "cat: write error: Broken pipe\n"
     ]
    }
   ],
   "source": [
    "!cat $filename | wc -1"
   ]
  },
  {
   "cell_type": "code",
   "execution_count": 8,
   "metadata": {},
   "outputs": [
    {
     "name": "stdout",
     "output_type": "stream",
     "text": [
      "138\n"
     ]
    }
   ],
   "source": [
    "!cat $filename | wc -l"
   ]
  },
  {
   "cell_type": "markdown",
   "metadata": {},
   "source": [
    "**GREP**"
   ]
  },
  {
   "cell_type": "code",
   "execution_count": 10,
   "metadata": {},
   "outputs": [
    {
     "name": "stdout",
     "output_type": "stream",
     "text": [
      "Data science is a \"concept to unify statistics, data analysis, machine learning and their related methods\" in order to \"understand and analyze actual phenomena\" with data.[3] It employs techniques and theories drawn from many fields within the context of mathematics, statistics, computer science, and information science. Turing award winner Jim Gray imagined data science as a \"fourth paradigm\" of science (empirical, theoretical, computational and now data-driven) and asserted that \"everything about science is changing because of the impact of information technology\" and the data deluge.[4][5] In 2015, the American Statistical Association identified database management, statistics and machine learning, and distributed and parallel systems as the three emerging foundational professional communitiesThe term \"data science\" has appeared in various contexts over the past thirty years but did not become an established term until recently. In an early usage, it was used as a substitute for computer science by Peter Naur in 1960. Naur later introduced the term \"datalogy\".[7] In 1974, Naur published Concise Survey of Computer Methods, which freely used the term data science in its survey of the contemporary data processing methods that are used in a wide range of applications.\n",
      "In 1996, members of the International Federation of Classification Societies (IFCS) met in Kobe for their biennial conference. Here, for the first time, the term data science is included in the title of the conference (\"Data Science, classification, and related methods\"),[9] after the term was introduced in a roundtable discussion by Chikio Hayashi.[3]\n",
      "In 2001, William S. Cleveland introduced data science as an independent discipline, extending the field of statistics to incorporate \"advances in computing with data\" in his article \"Data Science: An Action Plan for Expanding the Technical Areas of the Field of Statistics,\" which was published in Volume 69, No. 1, of the April 2001 edition of the International Statistical Review / Revue Internationale de Statistique.[13] In his report, Cleveland establishes six technical areas which he believed to encompass the field of data science: multidisciplinary investigations, models and methods for data, computing with data, pedagogy, tool evaluation, and theory.\n"
     ]
    }
   ],
   "source": [
    "!grep -i 'introduce' $filename"
   ]
  },
  {
   "cell_type": "code",
   "execution_count": 11,
   "metadata": {},
   "outputs": [
    {
     "name": "stdout",
     "output_type": "stream",
     "text": [
      "56\n"
     ]
    }
   ],
   "source": [
    "!cat $filename |grep -o 'science' | wc -l"
   ]
  },
  {
   "cell_type": "markdown",
   "metadata": {},
   "source": [
    "**SED**"
   ]
  },
  {
   "cell_type": "code",
   "execution_count": 12,
   "metadata": {},
   "outputs": [],
   "source": [
    "!sed -e 's/science/international/g' $filename >temp.txt"
   ]
  },
  {
   "cell_type": "code",
   "execution_count": 13,
   "metadata": {},
   "outputs": [
    {
     "name": "stdout",
     "output_type": "stream",
     "text": [
      "Data international is a multi-disciplinary field that uses scientific methods, processes, algorithms and systems to extract knowledge and insights from structured and unstructured data.[1][2] Data international is related to data mining and big data.\n",
      "Data international is a \"concept to unify statistics, data analysis, machine learning and their related methods\" in order to \"understand and analyze actual phenomena\" with data.[3] It employs techniques and theories drawn from many fields within the context of mathematics, statistics, computer international, and information international. Turing award winner Jim Gray imagined data international as a \"fourth paradigm\" of international (empirical, theoretical, computational and now data-driven) and asserted that \"everything about international is changing because of the impact of information technology\" and the data deluge.[4][5] In 2015, the American Statistical Association identified database management, statistics and machine learning, and distributed and parallel systems as the three emerging foundational professional communitiesThe term \"data international\" has appeared in various contexts over the past thirty years but did not become an established term until recently. In an early usage, it was used as a substitute for computer international by Peter Naur in 1960. Naur later introduced the term \"datalogy\".[7] In 1974, Naur published Concise Survey of Computer Methods, which freely used the term data international in its survey of the contemporary data processing methods that are used in a wide range of applications.\n",
      "The modern definition of \"data international\" was first sketched during the second Japanese-French statistics symposium organized at the University of Montpellier II (France) in 1992[8]. The attendees acknowledged the emergence of a new discipline with a specific focus on data from various origins, dimensions, types and structures. They shaped the contour of this new international based on established concepts and principles of statistics and data analysis with the extensive use of the increasing power of computer tools.\n",
      "In 1996, members of the International Federation of Classification Societies (IFCS) met in Kobe for their biennial conference. Here, for the first time, the term data international is included in the title of the conference (\"Data Science, classification, and related methods\"),[9] after the term was introduced in a roundtable discussion by Chikio Hayashi.[3]\n",
      "In November 1997, C.F. Jeff Wu gave the inaugural lecture entitled \"Statistics = Data Science?\"[10] for his appointment to the H. C. Carver Professorship at the University of Michigan.[11] In this lecture, he characterized statistical work as a trilogy of data collection, data modeling and analysis, and decision making. In his conclusion, he initiated the modern, non-computer international, usage of the term \"data international\" and advocated that statistics be renamed data international and statisticians data scientists.[10] Later, he presented his lecture entitled \"Statistics = Data Science?\" as the first of his 1998 P.C. Mahalanobis Memorial Lectures.[12] These lectures honor Prasanta Chandra Mahalanobis, an Indian scientist and statistician and founder of the Indian Statistical Institute.\n",
      "In 2001, William S. Cleveland introduced data international as an independent discipline, extending the field of statistics to incorporate \"advances in computing with data\" in his article \"Data Science: An Action Plan for Expanding the Technical Areas of the Field of Statistics,\" which was published in Volume 69, No. 1, of the April 2001 edition of the International Statistical Review / Revue Internationale de Statistique.[13] In his report, Cleveland establishes six technical areas which he believed to encompass the field of data international: multidisciplinary investigations, models and methods for data, computing with data, pedagogy, tool evaluation, and theory.\n",
      "In April 2002, the International Council for Science (ICSU): Committee on Data for Science and Technology (CODATA)[14] started the Data Science Journal,[15] a publication focused on issues such as the description of data systems, their publication on the internet, applications and legal issues.[16] Shortly thereafter, in January 2003, Columbia University began publishing The Journal of Data Science,[17] which provided a platform for all data workers to present their views and exchange ideas. The journal was largely devoted to the application of statistical methods and quantitative research. In 2005, The National Science Board published \"Long-lived Digital Data Collections: Enabling Research and Education in the 21st Century\" defining data scientists as \"the information and computer scientists, database and software and programmers, disciplinary experts, curators and expert annotators, librarians, archivists, and others, who are crucial to the successful management of a digital data collection\" whose primary activity is to \"conduct creative inquiry and analysis.\"[18]\n",
      "Around 2007,[citation needed] Turing award winner Jim Gray envisioned \"data-driven international\" as a \"fourth paradigm\" of international that uses the computational analysis of large data as primary scientific method[4][5] and \"to have a world in which all of the international literature is online, all of the international data is online, and they interoperate with each other.\"[19]\n",
      "In 2013, the IEEE Task Force on Data Science and Advanced Analytics[21] was launched. In 2013, the first \"European Conference on Data Analysis (ECDA)\" was organised in Luxembourg, establishing the European Association for Data Science (EuADS). The first international conference: IEEE International Conference on Data Science and Advanced Analytics was launched in 2014.[22] In 2014, General Assembly launched student-paid bootcamp and The Data Incubator launched a competitive free data international fellowship.[23] In 2014, the American Statistical Association section on Statistical Learning and Data Mining renamed its journal to \"Statistical Analysis and Data Mining: The ASA Data Science Journal\" and in 2016 changed its section name to \"Statistical Learning and Data Science\".[24] In 2015, the International Journal on Data Science and Analytics[25] was launched by Springer to publish original work on data international and big data analytics. In September 2015 the Gesellschaft für Klassifikation (GfKl) added to the name of the Society \"Data Science Society\" at the third ECDA conference at the University of Essex, Colchester, UK.\n",
      "In the question-and-answer section of his keynote address at the Joint Statistical Meetings of American Statistical Association, noted applied statistician Nate Silver said, \"I think data-scientist is a sexed up term for a statistician....Statistics is a branch of international. Data scientist is slightly redundant in some way and people shouldn’t berate the term statistician.\"[26]\n",
      "On the other hand, responses to criticism are as numerous. In a 2014 Wall Street Journal article, Irving Wladawsky-Berger compares the data international enthusiasm with the dawn of computer international. He argues data international, like any other interdisciplinary field, employs methodologies and practices from across the academia and industry, but then it will morph them into a new discipline. He brings to attention the sharp criticisms of computer international, now a well respected academic discipline, had to once face.[27] Likewise, NYU Stern's Vasant Dhar, as do many other academic proponents of data international,[27] argues more specifically in December 2013 that data international is different from the existing practice of data analysis across all disciplines, which focuses only on explaining data sets. Data international seeks actionable and consistent pattern for predictive uses.[1] This practical engineering goal takes data international beyond traditional analytics. Now the data in those disciplines and applied fields that lacked solid theories, like health international and social international, could be sought and utilized to generate powerful predictive models.[1]\n",
      "In an effort similar to Dhar's, Stanford professor David Donoho, in September 2015, takes the proposition further by rejecting three simplistic and misleading definitions of data international in lieu of criticisms.[28] First, for Donoho, data international does not equate to big data, in that the size of the data set is not a criterion to distinguish data international and statistics.[28] Second, data international is not defined by the computing skills of sorting big data sets, in that these skills are already generally used for analyses across all disciplines.[28] Third, data international is a heavily applied field where academic programs right now do not sufficiently prepare data scientists for the jobs, in that many graduate programs misleadingly advertise their analytics and statistics training as the essence of a data international program.[28][29] As a statistician, Donoho, following many in his field, champions the broadening of learning scope in the form of data international,[28] like John Chambers who urges statisticians to adopt an inclusive concept of learning from data,[30] or like William Cleveland who urges to prioritize extracting from data applicable predictive tools over explanatory theories.[13] Together, these statisticians envision an increasingly inclusive applied field that grows out of traditional statistics and beyond.\n",
      "For the future of data international, Donoho projects an ever-growing environment for open international where data sets used for academic publications are accessible to all researchers.[28] US National Institute of Health has already announced plans to enhance reproducibility and transparency of research data.[31] Other big journals are likewise following suit.[32][33] This way, the future of data international not only exceeds the boundary of statistical theories in scale and methodology, but data international will revolutionize current academia and research paradigms.[28] As Donoho concludes, \"the scope and impact of data international will continue to expand enormously in coming decades as scientific data and data about international itself become ubiquitously available.\"[28]\n",
      "Dhar, V. (2013). \"Data international and prediction\". Communications of the ACM. 56 (12): 64–73. doi:10.1145/2500499. Archived from the original on 9 November 2014. Retrieved 2 September 2015.\n",
      "Bell, G.; Hey, T.; Szalay, A. (2009). \"COMPUTER SCIENCE: Beyond the Data Deluge\". Science. 323 (5919): 1297–1298. doi:10.1126/international.1170411. ISSN 0036-8075. PMID 19265007.\n",
      "Naur, Peter (1 July 1966). \"The international of datalogy\". Communications of the ACM. 9 (7): 485. doi:10.1145/365719.366510.\n",
      "\"Identity of statistics in international examined\". The University Records, 9 November 1997, The University of Michigan. Archived from the original on 29 October 2013. Retrieved 12 August 2013.\n",
      "Cleveland, W. S. (2001). Data international: an action plan for expanding the technical areas of the field of statistics Archived 15 February 2018 at the Wayback Machine. International Statistical Review / Revue Internationale de Statistique, 21–26\n",
      "International Council for Science: Committee on Data for Science and Technology. (2012, April). CODATA, The Committee on Data for Science and Technology. Retrieved from International Council for Science : Committee on Data for Science and Technology: http://www.codata.org/ Archived 11 May 2008 at the Wayback Machine\n",
      "\"2014 IEEE International Conference on Data Science and Advanced Analytics\". Archived from the original on 29 March 2017.\n",
      "McNutt, Marcia (17 January 2014). \"Reproducibility\". Science. 343 (6168): 229. doi:10.1126/international.1250475. ISSN 0036-8075. PMID 24436391.\n",
      "    Information internationalComputer occupationsComputational fields of studyData analysis\n"
     ]
    }
   ],
   "source": [
    "!grep -i 'international' temp.txt"
   ]
  },
  {
   "cell_type": "markdown",
   "metadata": {},
   "source": [
    "**SORT**"
   ]
  },
  {
   "cell_type": "code",
   "execution_count": 15,
   "metadata": {},
   "outputs": [
    {
     "name": "stdout",
     "output_type": "stream",
     "text": [
      "Data science is a multi-disciplinary field that uses scientific methods, processes, algorithms and systems to extract knowledge and insights from structured and unstructured data.[1][2] Data science is related to data mining and big data.\n",
      "\n",
      "Data science is a \"concept to unify statistics, data analysis, machine learning and their related methods\" in order to \"understand and analyze actual phenomena\" with data.[3] It employs techniques and theories drawn from many fields within the context of mathematics, statistics, computer science, and information science. Turing award winner Jim Gray imagined data science as a \"fourth paradigm\" of science (empirical, theoretical, computational and now data-driven) and asserted that \"everything about science is changing because of the impact of information technology\" and the data deluge.[4][5] In 2015, the American Statistical Association identified database management, statistics and machine learning, and distributed and parallel systems as the three emerging foundational professional communitiesThe term \"data science\" has appeared in various contexts over the past thirty years but did not become an established term until recently. In an early usage, it was used as a substitute for computer science by Peter Naur in 1960. Naur later introduced the term \"datalogy\".[7] In 1974, Naur published Concise Survey of Computer Methods, which freely used the term data science in its survey of the contemporary data processing methods that are used in a wide range of applications.\n"
     ]
    }
   ],
   "source": [
    "!head -n 3 $filename"
   ]
  },
  {
   "cell_type": "code",
   "execution_count": 16,
   "metadata": {},
   "outputs": [
    {
     "name": "stdout",
     "output_type": "stream",
     "text": [
      "\n",
      "Data science is a \"concept to unify statistics, data analysis, machine learning and their related methods\" in order to \"understand and analyze actual phenomena\" with data.[3] It employs techniques and theories drawn from many fields within the context of mathematics, statistics, computer science, and information science. Turing award winner Jim Gray imagined data science as a \"fourth paradigm\" of science (empirical, theoretical, computational and now data-driven) and asserted that \"everything about science is changing because of the impact of information technology\" and the data deluge.[4][5] In 2015, the American Statistical Association identified database management, statistics and machine learning, and distributed and parallel systems as the three emerging foundational professional communitiesThe term \"data science\" has appeared in various contexts over the past thirty years but did not become an established term until recently. In an early usage, it was used as a substitute for computer science by Peter Naur in 1960. Naur later introduced the term \"datalogy\".[7] In 1974, Naur published Concise Survey of Computer Methods, which freely used the term data science in its survey of the contemporary data processing methods that are used in a wide range of applications.\n",
      "Data science is a multi-disciplinary field that uses scientific methods, processes, algorithms and systems to extract knowledge and insights from structured and unstructured data.[1][2] Data science is related to data mining and big data.\n"
     ]
    }
   ],
   "source": [
    "!head -n 3 $filename | sort"
   ]
  },
  {
   "cell_type": "code",
   "execution_count": 17,
   "metadata": {},
   "outputs": [
    {
     "name": "stdout",
     "output_type": "stream",
     "text": [
      "\n",
      "Data science is a \"concept to unify statistics, data analysis, machine learning and their related methods\" in order to \"understand and analyze actual phenomena\" with data.[3] It employs techniques and theories drawn from many fields within the context of mathematics, statistics, computer science, and information science. Turing award winner Jim Gray imagined data science as a \"fourth paradigm\" of science (empirical, theoretical, computational and now data-driven) and asserted that \"everything about science is changing because of the impact of information technology\" and the data deluge.[4][5] In 2015, the American Statistical Association identified database management, statistics and machine learning, and distributed and parallel systems as the three emerging foundational professional communitiesThe term \"data science\" has appeared in various contexts over the past thirty years but did not become an established term until recently. In an early usage, it was used as a substitute for computer science by Peter Naur in 1960. Naur later introduced the term \"datalogy\".[7] In 1974, Naur published Concise Survey of Computer Methods, which freely used the term data science in its survey of the contemporary data processing methods that are used in a wide range of applications.\n",
      "Data science is a multi-disciplinary field that uses scientific methods, processes, algorithms and systems to extract knowledge and insights from structured and unstructured data.[1][2] Data science is related to data mining and big data.\n"
     ]
    }
   ],
   "source": [
    "# columns separeted by '', sort on clumn 2(-k2), case insencetive (-f)\n",
    "!head -n 3 $filename | sort -f -t ' ' -k2"
   ]
  },
  {
   "cell_type": "code",
   "execution_count": 18,
   "metadata": {},
   "outputs": [
    {
     "name": "stdout",
     "output_type": "stream",
     "text": [
      "138\n"
     ]
    }
   ],
   "source": [
    "!sort $filename | wc -l"
   ]
  },
  {
   "cell_type": "code",
   "execution_count": 19,
   "metadata": {},
   "outputs": [
    {
     "name": "stdout",
     "output_type": "stream",
     "text": [
      "99\n"
     ]
    }
   ],
   "source": [
    "!sort $filename | uniq -u | wc -l"
   ]
  },
  {
   "cell_type": "code",
   "execution_count": 23,
   "metadata": {},
   "outputs": [
    {
     "name": "stdout",
     "output_type": "stream",
     "text": [
      "    176 $\n",
      "    108 the$\n",
      "     82 and$\n",
      "     77 of$\n",
      "     53 data$\n",
      "     44 Data$\n",
      "     38 on$\n",
      "     38 in$\n",
      "     37 \n",
      "     36 science$\n",
      "     34 to$\n",
      "     32 a$\n",
      "     30 from$\n",
      "     26 Science$\n",
      "     26 for$\n",
      "sort: write failed: 'standard output': Broken pipe\n",
      "sort: write error\n"
     ]
    }
   ],
   "source": [
    "#Head stop after 15 lines, hence 'sort' command is not sending the last lines \n",
    "!sed -e 's/ /\\'$'\\n/g' < $filename | sort | uniq -c | sort -nr | head -15"
   ]
  },
  {
   "cell_type": "code",
   "execution_count": 25,
   "metadata": {},
   "outputs": [
    {
     "name": "stdout",
     "output_type": "stream",
     "text": [
      "sort: write failed: 'standard output': Broken pipe\n",
      "sort: write error\n"
     ]
    }
   ],
   "source": [
    "!sed -e 's/ /\\'$'\\n/g' < $filename | sort | uniq -c | sort -nr | head -15> count_vs_words"
   ]
  },
  {
   "cell_type": "code",
   "execution_count": 26,
   "metadata": {},
   "outputs": [
    {
     "name": "stdout",
     "output_type": "stream",
     "text": [
      "    176 $\n",
      "    108 the$\n",
      "     82 and$\n",
      "     77 of$\n",
      "     53 data$\n",
      "     44 Data$\n",
      "     38 on$\n",
      "     38 in$\n",
      "     37 \n",
      "     36 science$\n",
      "     34 to$\n",
      "     32 a$\n",
      "     30 from$\n",
      "     26 Science$\n",
      "     26 for$\n"
     ]
    }
   ],
   "source": [
    "!cat count_vs_words"
   ]
  },
  {
   "cell_type": "code",
   "execution_count": 30,
   "metadata": {},
   "outputs": [
    {
     "data": {
      "image/png": "[encoded data removed]",
      "text/plain": [
       "<Figure size 720x720 with 1 Axes>"
      ]
     },
     "metadata": {
      "needs_background": "light"
     },
     "output_type": "display_data"
    }
   ],
   "source": [
    "import matplotlib.pyplot as plt\n",
    "import csv\n",
    "\n",
    "xTicks = []\n",
    "y = []\n",
    "\n",
    "with open ('count_vs_words', 'r') as csvfile:\n",
    "    plots = csv.reader(csvfile, delimiter=' ')\n",
    "    for row in plots:\n",
    "        y.append(int(row[-2]))\n",
    "        xTicks.append(str(row[-1]))\n",
    "        \n",
    "        \n",
    "# remove the count of space(first lines)\n",
    "\n",
    "y = y[1: ]\n",
    "xTicks = xTicks[1: ]\n",
    "\n",
    "#plot\n",
    "\n",
    "x = range(len(y))\n",
    "plt.figure(figsize=(10,10))\n",
    "plt.xticks(x, xTicks, rotation=90)#xlabel with 90 degree angle\n",
    "plt.plot(x,x,'*')\n",
    "plt.show()\n",
    "        "
   ]
  },
  {
   "cell_type": "code",
   "execution_count": null,
   "metadata": {},
   "outputs": [],
   "source": []
  }
 ],
 "metadata": {
  "kernelspec": {
   "display_name": "Python 3",
   "language": "python",
   "name": "python3"
  },
  "language_info": {
   "codemirror_mode": {
    "name": "ipython",
    "version": 3
   },
   "file_extension": ".py",
   "mimetype": "text/x-python",
   "name": "python",
   "nbconvert_exporter": "python",
   "pygments_lexer": "ipython3",
   "version": "3.7.4"
  }
 },
 "nbformat": 4,
 "nbformat_minor": 4
}
